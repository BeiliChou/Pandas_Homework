{
 "cells": [
  {
   "cell_type": "markdown",
   "metadata": {},
   "source": [
    "### Note\n",
    "* Instructions have been included for each segment. You do not have to follow them exactly, but they are included to help you think through the steps."
   ]
  },
  {
   "cell_type": "code",
   "execution_count": 26,
   "metadata": {},
   "outputs": [
    {
     "data": {
      "text/html": [
       "<div>\n",
       "<style scoped>\n",
       "    .dataframe tbody tr th:only-of-type {\n",
       "        vertical-align: middle;\n",
       "    }\n",
       "\n",
       "    .dataframe tbody tr th {\n",
       "        vertical-align: top;\n",
       "    }\n",
       "\n",
       "    .dataframe thead th {\n",
       "        text-align: right;\n",
       "    }\n",
       "</style>\n",
       "<table border=\"1\" class=\"dataframe\">\n",
       "  <thead>\n",
       "    <tr style=\"text-align: right;\">\n",
       "      <th></th>\n",
       "      <th>Purchase ID</th>\n",
       "      <th>SN</th>\n",
       "      <th>Age</th>\n",
       "      <th>Gender</th>\n",
       "      <th>Item ID</th>\n",
       "      <th>Item Name</th>\n",
       "      <th>Price</th>\n",
       "    </tr>\n",
       "  </thead>\n",
       "  <tbody>\n",
       "    <tr>\n",
       "      <th>0</th>\n",
       "      <td>0</td>\n",
       "      <td>Lisim78</td>\n",
       "      <td>20</td>\n",
       "      <td>Male</td>\n",
       "      <td>108</td>\n",
       "      <td>Extraction, Quickblade Of Trembling Hands</td>\n",
       "      <td>3.53</td>\n",
       "    </tr>\n",
       "    <tr>\n",
       "      <th>1</th>\n",
       "      <td>1</td>\n",
       "      <td>Lisovynya38</td>\n",
       "      <td>40</td>\n",
       "      <td>Male</td>\n",
       "      <td>143</td>\n",
       "      <td>Frenzied Scimitar</td>\n",
       "      <td>1.56</td>\n",
       "    </tr>\n",
       "    <tr>\n",
       "      <th>2</th>\n",
       "      <td>2</td>\n",
       "      <td>Ithergue48</td>\n",
       "      <td>24</td>\n",
       "      <td>Male</td>\n",
       "      <td>92</td>\n",
       "      <td>Final Critic</td>\n",
       "      <td>4.88</td>\n",
       "    </tr>\n",
       "    <tr>\n",
       "      <th>3</th>\n",
       "      <td>3</td>\n",
       "      <td>Chamassasya86</td>\n",
       "      <td>24</td>\n",
       "      <td>Male</td>\n",
       "      <td>100</td>\n",
       "      <td>Blindscythe</td>\n",
       "      <td>3.27</td>\n",
       "    </tr>\n",
       "    <tr>\n",
       "      <th>4</th>\n",
       "      <td>4</td>\n",
       "      <td>Iskosia90</td>\n",
       "      <td>23</td>\n",
       "      <td>Male</td>\n",
       "      <td>131</td>\n",
       "      <td>Fury</td>\n",
       "      <td>1.44</td>\n",
       "    </tr>\n",
       "  </tbody>\n",
       "</table>\n",
       "</div>"
      ],
      "text/plain": [
       "   Purchase ID             SN  Age Gender  Item ID  \\\n",
       "0            0        Lisim78   20   Male      108   \n",
       "1            1    Lisovynya38   40   Male      143   \n",
       "2            2     Ithergue48   24   Male       92   \n",
       "3            3  Chamassasya86   24   Male      100   \n",
       "4            4      Iskosia90   23   Male      131   \n",
       "\n",
       "                                   Item Name  Price  \n",
       "0  Extraction, Quickblade Of Trembling Hands   3.53  \n",
       "1                          Frenzied Scimitar   1.56  \n",
       "2                               Final Critic   4.88  \n",
       "3                                Blindscythe   3.27  \n",
       "4                                       Fury   1.44  "
      ]
     },
     "execution_count": 26,
     "metadata": {},
     "output_type": "execute_result"
    }
   ],
   "source": [
    "# Dependencies and Setup\n",
    "import pandas as pd\n",
    "\n",
    "# File to Load (Remember to Change These)\n",
    "file_to_load = \"Resources/purchase_data.csv\"\n",
    "\n",
    "# Read Purchasing File and store into Pandas data frame\n",
    "purchase_df = pd.read_csv(file_to_load)\n",
    "purchase_df.head()"
   ]
  },
  {
   "cell_type": "markdown",
   "metadata": {},
   "source": [
    "## Player Count"
   ]
  },
  {
   "cell_type": "markdown",
   "metadata": {},
   "source": [
    "* Display the total number of players\n"
   ]
  },
  {
   "cell_type": "code",
   "execution_count": 27,
   "metadata": {},
   "outputs": [
    {
     "data": {
      "text/html": [
       "<div>\n",
       "<style scoped>\n",
       "    .dataframe tbody tr th:only-of-type {\n",
       "        vertical-align: middle;\n",
       "    }\n",
       "\n",
       "    .dataframe tbody tr th {\n",
       "        vertical-align: top;\n",
       "    }\n",
       "\n",
       "    .dataframe thead th {\n",
       "        text-align: right;\n",
       "    }\n",
       "</style>\n",
       "<table border=\"1\" class=\"dataframe\">\n",
       "  <thead>\n",
       "    <tr style=\"text-align: right;\">\n",
       "      <th></th>\n",
       "      <th>Total Players</th>\n",
       "    </tr>\n",
       "  </thead>\n",
       "  <tbody>\n",
       "    <tr>\n",
       "      <th>0</th>\n",
       "      <td>576</td>\n",
       "    </tr>\n",
       "  </tbody>\n",
       "</table>\n",
       "</div>"
      ],
      "text/plain": [
       "   Total Players\n",
       "0            576"
      ]
     },
     "execution_count": 27,
     "metadata": {},
     "output_type": "execute_result"
    }
   ],
   "source": [
    "# Counting # of unique players\n",
    "unique_players = purchase_df[\"SN\"].nunique()\n",
    "player_count_df = pd.DataFrame({\"Total Players\": [unique_players]})\n",
    "player_count_df"
   ]
  },
  {
   "cell_type": "markdown",
   "metadata": {},
   "source": [
    "## Purchasing Analysis (Total)"
   ]
  },
  {
   "cell_type": "markdown",
   "metadata": {},
   "source": [
    "* Run basic calculations to obtain number of unique items, average price, etc.\n",
    "\n",
    "\n",
    "* Create a summary data frame to hold the results\n",
    "\n",
    "\n",
    "* Optional: give the displayed data cleaner formatting\n",
    "\n",
    "\n",
    "* Display the summary data frame\n"
   ]
  },
  {
   "cell_type": "code",
   "execution_count": 28,
   "metadata": {
    "scrolled": true
   },
   "outputs": [
    {
     "data": {
      "text/html": [
       "<div>\n",
       "<style scoped>\n",
       "    .dataframe tbody tr th:only-of-type {\n",
       "        vertical-align: middle;\n",
       "    }\n",
       "\n",
       "    .dataframe tbody tr th {\n",
       "        vertical-align: top;\n",
       "    }\n",
       "\n",
       "    .dataframe thead th {\n",
       "        text-align: right;\n",
       "    }\n",
       "</style>\n",
       "<table border=\"1\" class=\"dataframe\">\n",
       "  <thead>\n",
       "    <tr style=\"text-align: right;\">\n",
       "      <th></th>\n",
       "      <th>Total Purchases</th>\n",
       "      <th>Unique Items</th>\n",
       "      <th>Average Sale Price</th>\n",
       "      <th>Total Revenue</th>\n",
       "    </tr>\n",
       "  </thead>\n",
       "  <tbody>\n",
       "    <tr>\n",
       "      <th>0</th>\n",
       "      <td>780</td>\n",
       "      <td>179</td>\n",
       "      <td>$3.05</td>\n",
       "      <td>$2379.77</td>\n",
       "    </tr>\n",
       "  </tbody>\n",
       "</table>\n",
       "</div>"
      ],
      "text/plain": [
       "   Total Purchases  Unique Items Average Sale Price Total Revenue\n",
       "0              780           179              $3.05      $2379.77"
      ]
     },
     "execution_count": 28,
     "metadata": {},
     "output_type": "execute_result"
    }
   ],
   "source": [
    "# Basic summary of dataset\n",
    "unique_items = purchase_df[\"Item ID\"].nunique()\n",
    "avg_price = \"${:.2f}\".format(purchase_df[\"Price\"].mean())\n",
    "num_purchases = len(purchase_df)\n",
    "tot_rev = \"${:.2f}\".format(purchase_df[\"Price\"].sum())\n",
    "\n",
    "analysis_df = pd.DataFrame({\n",
    "    \"Total Purchases\": [num_purchases],\n",
    "    \"Unique Items\": [unique_items],\n",
    "    \"Average Sale Price\": [avg_price],\n",
    "    \"Total Revenue\": [tot_rev]\n",
    "})\n",
    "analysis_df"
   ]
  },
  {
   "cell_type": "markdown",
   "metadata": {},
   "source": [
    "## Gender Demographics"
   ]
  },
  {
   "cell_type": "markdown",
   "metadata": {},
   "source": [
    "* Percentage and Count of Male Players\n",
    "\n",
    "\n",
    "* Percentage and Count of Female Players\n",
    "\n",
    "\n",
    "* Percentage and Count of Other / Non-Disclosed\n",
    "\n",
    "\n"
   ]
  },
  {
   "cell_type": "code",
   "execution_count": 29,
   "metadata": {},
   "outputs": [
    {
     "data": {
      "text/html": [
       "<div>\n",
       "<style scoped>\n",
       "    .dataframe tbody tr th:only-of-type {\n",
       "        vertical-align: middle;\n",
       "    }\n",
       "\n",
       "    .dataframe tbody tr th {\n",
       "        vertical-align: top;\n",
       "    }\n",
       "\n",
       "    .dataframe thead th {\n",
       "        text-align: right;\n",
       "    }\n",
       "</style>\n",
       "<table border=\"1\" class=\"dataframe\">\n",
       "  <thead>\n",
       "    <tr style=\"text-align: right;\">\n",
       "      <th></th>\n",
       "      <th>Total Count</th>\n",
       "      <th>Percentage of Players</th>\n",
       "    </tr>\n",
       "  </thead>\n",
       "  <tbody>\n",
       "    <tr>\n",
       "      <th>Male</th>\n",
       "      <td>484</td>\n",
       "      <td>84.03%</td>\n",
       "    </tr>\n",
       "    <tr>\n",
       "      <th>Female</th>\n",
       "      <td>81</td>\n",
       "      <td>14.06%</td>\n",
       "    </tr>\n",
       "    <tr>\n",
       "      <th>Other / Non-Disclosed</th>\n",
       "      <td>11</td>\n",
       "      <td>1.91%</td>\n",
       "    </tr>\n",
       "  </tbody>\n",
       "</table>\n",
       "</div>"
      ],
      "text/plain": [
       "                       Total Count Percentage of Players\n",
       "Male                           484                84.03%\n",
       "Female                          81                14.06%\n",
       "Other / Non-Disclosed           11                 1.91%"
      ]
     },
     "execution_count": 29,
     "metadata": {},
     "output_type": "execute_result"
    }
   ],
   "source": [
    "# Getting totals by gender\n",
    "tot_m = purchase_df.loc[purchase_df[\"Gender\"] == \"Male\",\"SN\"].nunique()\n",
    "tot_f = purchase_df.loc[purchase_df[\"Gender\"] == \"Female\",\"SN\"].nunique()\n",
    "tot_o = purchase_df.loc[purchase_df[\"Gender\"] == \"Other / Non-Disclosed\",\"SN\"].nunique()  \n",
    "\n",
    "# Calculating the percentages\n",
    "percent_m = \"{:.2f}%\".format((tot_m/unique_players)*100)\n",
    "percent_f = \"{:.2f}%\".format((tot_f/unique_players)*100)\n",
    "percent_o = \"{:.2f}%\".format((tot_o/unique_players)*100)\n",
    "\n",
    "# Creating DF\n",
    "gender_df = pd.DataFrame({\n",
    "    \"Total Count\": [tot_m, tot_f, tot_o],\n",
    "    \"Percentage of Players\": [percent_m, percent_f, percent_o]\n",
    "}, index = [\"Male\", \"Female\", \"Other / Non-Disclosed\"])\n",
    "gender_df"
   ]
  },
  {
   "cell_type": "markdown",
   "metadata": {},
   "source": [
    "\n",
    "## Purchasing Analysis (Gender)"
   ]
  },
  {
   "cell_type": "markdown",
   "metadata": {},
   "source": [
    "* Run basic calculations to obtain purchase count, avg. purchase price, avg. purchase total per person etc. by gender\n",
    "\n",
    "\n",
    "\n",
    "\n",
    "* Create a summary data frame to hold the results\n",
    "\n",
    "\n",
    "* Optional: give the displayed data cleaner formatting\n",
    "\n",
    "\n",
    "* Display the summary data frame"
   ]
  },
  {
   "cell_type": "code",
   "execution_count": 39,
   "metadata": {},
   "outputs": [
    {
     "data": {
      "text/html": [
       "<div>\n",
       "<style scoped>\n",
       "    .dataframe tbody tr th:only-of-type {\n",
       "        vertical-align: middle;\n",
       "    }\n",
       "\n",
       "    .dataframe tbody tr th {\n",
       "        vertical-align: top;\n",
       "    }\n",
       "\n",
       "    .dataframe thead th {\n",
       "        text-align: right;\n",
       "    }\n",
       "</style>\n",
       "<table border=\"1\" class=\"dataframe\">\n",
       "  <thead>\n",
       "    <tr style=\"text-align: right;\">\n",
       "      <th></th>\n",
       "      <th>Purchase Count</th>\n",
       "      <th>Average Purchase Price</th>\n",
       "      <th>Total Purchase Value</th>\n",
       "      <th>Average Total Purchase/Person</th>\n",
       "    </tr>\n",
       "    <tr>\n",
       "      <th>Gender</th>\n",
       "      <th></th>\n",
       "      <th></th>\n",
       "      <th></th>\n",
       "      <th></th>\n",
       "    </tr>\n",
       "  </thead>\n",
       "  <tbody>\n",
       "    <tr>\n",
       "      <th>Male</th>\n",
       "      <td>652</td>\n",
       "      <td>$3.02</td>\n",
       "      <td>$1967.64</td>\n",
       "      <td>$4.07</td>\n",
       "    </tr>\n",
       "    <tr>\n",
       "      <th>Female</th>\n",
       "      <td>113</td>\n",
       "      <td>$3.20</td>\n",
       "      <td>$361.94</td>\n",
       "      <td>$4.47</td>\n",
       "    </tr>\n",
       "    <tr>\n",
       "      <th>Other/Non-Disclosed</th>\n",
       "      <td>15</td>\n",
       "      <td>$3.35</td>\n",
       "      <td>$50.19</td>\n",
       "      <td>$4.56</td>\n",
       "    </tr>\n",
       "  </tbody>\n",
       "</table>\n",
       "</div>"
      ],
      "text/plain": [
       "                     Purchase Count Average Purchase Price  \\\n",
       "Gender                                                       \n",
       "Male                            652                  $3.02   \n",
       "Female                          113                  $3.20   \n",
       "Other/Non-Disclosed              15                  $3.35   \n",
       "\n",
       "                    Total Purchase Value Average Total Purchase/Person  \n",
       "Gender                                                                  \n",
       "Male                            $1967.64                         $4.07  \n",
       "Female                           $361.94                         $4.47  \n",
       "Other/Non-Disclosed               $50.19                         $4.56  "
      ]
     },
     "execution_count": 39,
     "metadata": {},
     "output_type": "execute_result"
    }
   ],
   "source": [
    "# Creating variables for out DF\n",
    "sale_m = purchase_df.loc[purchase_df[\"Gender\"] == \"Male\",\"Purchase ID\"].nunique()\n",
    "sale_f = purchase_df.loc[purchase_df[\"Gender\"] == \"Female\",\"Purchase ID\"].nunique()\n",
    "sale_o = purchase_df.loc[purchase_df[\"Gender\"] == \"Other / Non-Disclosed\",\"Purchase ID\"].nunique()\n",
    "\n",
    "tots_m = purchase_df.loc[purchase_df[\"Gender\"] == \"Male\",\"Price\"].sum(axis=0)\n",
    "tots_f = purchase_df.loc[purchase_df[\"Gender\"] == \"Female\",\"Price\"].sum(axis=0)\n",
    "tots_o = purchase_df.loc[purchase_df[\"Gender\"] == \"Other / Non-Disclosed\",\"Price\"].sum(axis=0)\n",
    "\n",
    "avg_pm = \"${:.2f}\".format(tots_m/sale_m)\n",
    "avg_pf = \"${:.2f}\".format(tots_f/sale_f) \n",
    "avg_po = \"${:.2f}\".format(tots_o/sale_o)\n",
    "\n",
    "numpur_m = purchase_df.loc[purchase_df[\"Gender\"] == \"Male\",\"SN\"].nunique()\n",
    "numpur_f = purchase_df.loc[purchase_df[\"Gender\"] == \"Female\",\"SN\"].nunique()\n",
    "numpur_o = purchase_df.loc[purchase_df[\"Gender\"] == \"Other / Non-Disclosed\",\"SN\"].nunique()\n",
    "\n",
    "avg_pur_m = \"${:.2f}\".format(tots_m/numpur_m)\n",
    "avg_pur_f = \"${:.2f}\".format(tots_f/numpur_f)\n",
    "avg_pur_o = \"${:.2f}\".format(tots_o/numpur_o)\n",
    "\n",
    "# Creating DF\n",
    "gender_analysis_df = pd.DataFrame({\n",
    "    \"Gender\": [\"Male\", \"Female\", \"Other/Non-Disclosed\"],\n",
    "    \"Purchase Count\": [sale_m, sale_f, sale_o],\n",
    "    \"Average Purchase Price\": [avg_pm, avg_pf, avg_po],\n",
    "    \"Total Purchase Value\": [\"${:.2f}\".format(tots_m), \"${:.2f}\".format(tots_f), \"${:.2f}\".format(tots_o)],\n",
    "    \"Average Total Purchase/Person\": [avg_pur_m, avg_pur_f, avg_pur_o]\n",
    "}).set_index(\"Gender\")\n",
    "gender_analysis_df"
   ]
  },
  {
   "cell_type": "markdown",
   "metadata": {},
   "source": [
    "## Age Demographics"
   ]
  },
  {
   "cell_type": "markdown",
   "metadata": {},
   "source": [
    "* Establish bins for ages\n",
    "\n",
    "\n",
    "* Categorize the existing players using the age bins. Hint: use pd.cut()\n",
    "\n",
    "\n",
    "* Calculate the numbers and percentages by age group\n",
    "\n",
    "\n",
    "* Create a summary data frame to hold the results\n",
    "\n",
    "\n",
    "* Optional: round the percentage column to two decimal points\n",
    "\n",
    "\n",
    "* Display Age Demographics Table\n"
   ]
  },
  {
   "cell_type": "code",
   "execution_count": 68,
   "metadata": {},
   "outputs": [
    {
     "data": {
      "text/html": [
       "<style  type=\"text/css\" >\n",
       "</style><table id=\"T_33c8f4fb_172b_11eb_848e_8cc68114cd63\" ><thead>    <tr>        <th class=\"blank level0\" ></th>        <th class=\"col_heading level0 col0\" >Total Count</th>        <th class=\"col_heading level0 col1\" >Percentage of Players</th>    </tr></thead><tbody>\n",
       "                <tr>\n",
       "                        <th id=\"T_33c8f4fb_172b_11eb_848e_8cc68114cd63level0_row0\" class=\"row_heading level0 row0\" ><10</th>\n",
       "                        <td id=\"T_33c8f4fb_172b_11eb_848e_8cc68114cd63row0_col0\" class=\"data row0 col0\" >17</td>\n",
       "                        <td id=\"T_33c8f4fb_172b_11eb_848e_8cc68114cd63row0_col1\" class=\"data row0 col1\" >2.95%</td>\n",
       "            </tr>\n",
       "            <tr>\n",
       "                        <th id=\"T_33c8f4fb_172b_11eb_848e_8cc68114cd63level0_row1\" class=\"row_heading level0 row1\" >10-14</th>\n",
       "                        <td id=\"T_33c8f4fb_172b_11eb_848e_8cc68114cd63row1_col0\" class=\"data row1 col0\" >22</td>\n",
       "                        <td id=\"T_33c8f4fb_172b_11eb_848e_8cc68114cd63row1_col1\" class=\"data row1 col1\" >3.82%</td>\n",
       "            </tr>\n",
       "            <tr>\n",
       "                        <th id=\"T_33c8f4fb_172b_11eb_848e_8cc68114cd63level0_row2\" class=\"row_heading level0 row2\" >15-19</th>\n",
       "                        <td id=\"T_33c8f4fb_172b_11eb_848e_8cc68114cd63row2_col0\" class=\"data row2 col0\" >107</td>\n",
       "                        <td id=\"T_33c8f4fb_172b_11eb_848e_8cc68114cd63row2_col1\" class=\"data row2 col1\" >18.58%</td>\n",
       "            </tr>\n",
       "            <tr>\n",
       "                        <th id=\"T_33c8f4fb_172b_11eb_848e_8cc68114cd63level0_row3\" class=\"row_heading level0 row3\" >20-24</th>\n",
       "                        <td id=\"T_33c8f4fb_172b_11eb_848e_8cc68114cd63row3_col0\" class=\"data row3 col0\" >258</td>\n",
       "                        <td id=\"T_33c8f4fb_172b_11eb_848e_8cc68114cd63row3_col1\" class=\"data row3 col1\" >44.79%</td>\n",
       "            </tr>\n",
       "            <tr>\n",
       "                        <th id=\"T_33c8f4fb_172b_11eb_848e_8cc68114cd63level0_row4\" class=\"row_heading level0 row4\" >25-29</th>\n",
       "                        <td id=\"T_33c8f4fb_172b_11eb_848e_8cc68114cd63row4_col0\" class=\"data row4 col0\" >77</td>\n",
       "                        <td id=\"T_33c8f4fb_172b_11eb_848e_8cc68114cd63row4_col1\" class=\"data row4 col1\" >13.37%</td>\n",
       "            </tr>\n",
       "            <tr>\n",
       "                        <th id=\"T_33c8f4fb_172b_11eb_848e_8cc68114cd63level0_row5\" class=\"row_heading level0 row5\" >30-34</th>\n",
       "                        <td id=\"T_33c8f4fb_172b_11eb_848e_8cc68114cd63row5_col0\" class=\"data row5 col0\" >52</td>\n",
       "                        <td id=\"T_33c8f4fb_172b_11eb_848e_8cc68114cd63row5_col1\" class=\"data row5 col1\" >9.03%</td>\n",
       "            </tr>\n",
       "            <tr>\n",
       "                        <th id=\"T_33c8f4fb_172b_11eb_848e_8cc68114cd63level0_row6\" class=\"row_heading level0 row6\" >35-39</th>\n",
       "                        <td id=\"T_33c8f4fb_172b_11eb_848e_8cc68114cd63row6_col0\" class=\"data row6 col0\" >31</td>\n",
       "                        <td id=\"T_33c8f4fb_172b_11eb_848e_8cc68114cd63row6_col1\" class=\"data row6 col1\" >5.38%</td>\n",
       "            </tr>\n",
       "            <tr>\n",
       "                        <th id=\"T_33c8f4fb_172b_11eb_848e_8cc68114cd63level0_row7\" class=\"row_heading level0 row7\" >40+</th>\n",
       "                        <td id=\"T_33c8f4fb_172b_11eb_848e_8cc68114cd63row7_col0\" class=\"data row7 col0\" >12</td>\n",
       "                        <td id=\"T_33c8f4fb_172b_11eb_848e_8cc68114cd63row7_col1\" class=\"data row7 col1\" >2.08%</td>\n",
       "            </tr>\n",
       "    </tbody></table>"
      ],
      "text/plain": [
       "<pandas.io.formats.style.Styler at 0x1762cb2d370>"
      ]
     },
     "execution_count": 68,
     "metadata": {},
     "output_type": "execute_result"
    }
   ],
   "source": [
    "# Creating bins and labels\n",
    "bins = [0,10,15,20,25,30,35,40,100]\n",
    "labels = [\"<10\", \"10-14\",\"15-19\",\"20-24\",\"25-29\",\"30-34\",\"35-39\",\"40+\"]\n",
    "\n",
    "# Cutting\n",
    "purchase_df[\"Age Group\"] = pd.cut(purchase_df[\"Age\"], bins, labels = labels, include_lowest = True, right = False)\n",
    "\n",
    "# Creating a new data frame, grouped by Age Group\n",
    "grouped_age_df = purchase_df.groupby(by = \"Age Group\")\n",
    "\n",
    "# Creating variables for DF\n",
    "tot_by_age = grouped_age_df[\"SN\"].nunique()\n",
    "pct_age = (tot_by_age/unique_players)*100\n",
    "\n",
    "# Creating DF and formating\n",
    "age_df = pd.DataFrame({\n",
    "    \"Total Count\": tot_by_age, \n",
    "    \"Percentage of Players\": pct_age\n",
    "})\n",
    "age_df.index.name = None\n",
    "age_df.style.format({\"Percentage of Players\":\"{:.2f}%\"})"
   ]
  },
  {
   "cell_type": "markdown",
   "metadata": {},
   "source": [
    "## Purchasing Analysis (Age)"
   ]
  },
  {
   "cell_type": "markdown",
   "metadata": {},
   "source": [
    "* Bin the purchase_data data frame by age\n",
    "\n",
    "\n",
    "* Run basic calculations to obtain purchase count, avg. purchase price, avg. purchase total per person etc. in the table below\n",
    "\n",
    "\n",
    "* Create a summary data frame to hold the results\n",
    "\n",
    "\n",
    "* Optional: give the displayed data cleaner formatting\n",
    "\n",
    "\n",
    "* Display the summary data frame"
   ]
  },
  {
   "cell_type": "code",
   "execution_count": 67,
   "metadata": {},
   "outputs": [
    {
     "data": {
      "text/html": [
       "<style  type=\"text/css\" >\n",
       "</style><table id=\"T_304269da_172b_11eb_8a36_8cc68114cd63\" ><thead>    <tr>        <th class=\"blank level0\" ></th>        <th class=\"col_heading level0 col0\" >Purchase Count</th>        <th class=\"col_heading level0 col1\" >Average Purchase Price</th>        <th class=\"col_heading level0 col2\" >Total Purchase Value</th>        <th class=\"col_heading level0 col3\" >Average Total Purchase/Person</th>    </tr></thead><tbody>\n",
       "                <tr>\n",
       "                        <th id=\"T_304269da_172b_11eb_8a36_8cc68114cd63level0_row0\" class=\"row_heading level0 row0\" ><10</th>\n",
       "                        <td id=\"T_304269da_172b_11eb_8a36_8cc68114cd63row0_col0\" class=\"data row0 col0\" >23</td>\n",
       "                        <td id=\"T_304269da_172b_11eb_8a36_8cc68114cd63row0_col1\" class=\"data row0 col1\" >$3.35</td>\n",
       "                        <td id=\"T_304269da_172b_11eb_8a36_8cc68114cd63row0_col2\" class=\"data row0 col2\" >$77.13</td>\n",
       "                        <td id=\"T_304269da_172b_11eb_8a36_8cc68114cd63row0_col3\" class=\"data row0 col3\" >$3.35</td>\n",
       "            </tr>\n",
       "            <tr>\n",
       "                        <th id=\"T_304269da_172b_11eb_8a36_8cc68114cd63level0_row1\" class=\"row_heading level0 row1\" >10-14</th>\n",
       "                        <td id=\"T_304269da_172b_11eb_8a36_8cc68114cd63row1_col0\" class=\"data row1 col0\" >28</td>\n",
       "                        <td id=\"T_304269da_172b_11eb_8a36_8cc68114cd63row1_col1\" class=\"data row1 col1\" >$2.96</td>\n",
       "                        <td id=\"T_304269da_172b_11eb_8a36_8cc68114cd63row1_col2\" class=\"data row1 col2\" >$82.78</td>\n",
       "                        <td id=\"T_304269da_172b_11eb_8a36_8cc68114cd63row1_col3\" class=\"data row1 col3\" >$2.96</td>\n",
       "            </tr>\n",
       "            <tr>\n",
       "                        <th id=\"T_304269da_172b_11eb_8a36_8cc68114cd63level0_row2\" class=\"row_heading level0 row2\" >15-19</th>\n",
       "                        <td id=\"T_304269da_172b_11eb_8a36_8cc68114cd63row2_col0\" class=\"data row2 col0\" >136</td>\n",
       "                        <td id=\"T_304269da_172b_11eb_8a36_8cc68114cd63row2_col1\" class=\"data row2 col1\" >$3.04</td>\n",
       "                        <td id=\"T_304269da_172b_11eb_8a36_8cc68114cd63row2_col2\" class=\"data row2 col2\" >$412.89</td>\n",
       "                        <td id=\"T_304269da_172b_11eb_8a36_8cc68114cd63row2_col3\" class=\"data row2 col3\" >$3.04</td>\n",
       "            </tr>\n",
       "            <tr>\n",
       "                        <th id=\"T_304269da_172b_11eb_8a36_8cc68114cd63level0_row3\" class=\"row_heading level0 row3\" >20-24</th>\n",
       "                        <td id=\"T_304269da_172b_11eb_8a36_8cc68114cd63row3_col0\" class=\"data row3 col0\" >365</td>\n",
       "                        <td id=\"T_304269da_172b_11eb_8a36_8cc68114cd63row3_col1\" class=\"data row3 col1\" >$3.05</td>\n",
       "                        <td id=\"T_304269da_172b_11eb_8a36_8cc68114cd63row3_col2\" class=\"data row3 col2\" >$1114.06</td>\n",
       "                        <td id=\"T_304269da_172b_11eb_8a36_8cc68114cd63row3_col3\" class=\"data row3 col3\" >$3.05</td>\n",
       "            </tr>\n",
       "            <tr>\n",
       "                        <th id=\"T_304269da_172b_11eb_8a36_8cc68114cd63level0_row4\" class=\"row_heading level0 row4\" >25-29</th>\n",
       "                        <td id=\"T_304269da_172b_11eb_8a36_8cc68114cd63row4_col0\" class=\"data row4 col0\" >101</td>\n",
       "                        <td id=\"T_304269da_172b_11eb_8a36_8cc68114cd63row4_col1\" class=\"data row4 col1\" >$2.90</td>\n",
       "                        <td id=\"T_304269da_172b_11eb_8a36_8cc68114cd63row4_col2\" class=\"data row4 col2\" >$293.00</td>\n",
       "                        <td id=\"T_304269da_172b_11eb_8a36_8cc68114cd63row4_col3\" class=\"data row4 col3\" >$2.90</td>\n",
       "            </tr>\n",
       "            <tr>\n",
       "                        <th id=\"T_304269da_172b_11eb_8a36_8cc68114cd63level0_row5\" class=\"row_heading level0 row5\" >30-34</th>\n",
       "                        <td id=\"T_304269da_172b_11eb_8a36_8cc68114cd63row5_col0\" class=\"data row5 col0\" >73</td>\n",
       "                        <td id=\"T_304269da_172b_11eb_8a36_8cc68114cd63row5_col1\" class=\"data row5 col1\" >$2.93</td>\n",
       "                        <td id=\"T_304269da_172b_11eb_8a36_8cc68114cd63row5_col2\" class=\"data row5 col2\" >$214.00</td>\n",
       "                        <td id=\"T_304269da_172b_11eb_8a36_8cc68114cd63row5_col3\" class=\"data row5 col3\" >$2.93</td>\n",
       "            </tr>\n",
       "            <tr>\n",
       "                        <th id=\"T_304269da_172b_11eb_8a36_8cc68114cd63level0_row6\" class=\"row_heading level0 row6\" >35-39</th>\n",
       "                        <td id=\"T_304269da_172b_11eb_8a36_8cc68114cd63row6_col0\" class=\"data row6 col0\" >41</td>\n",
       "                        <td id=\"T_304269da_172b_11eb_8a36_8cc68114cd63row6_col1\" class=\"data row6 col1\" >$3.60</td>\n",
       "                        <td id=\"T_304269da_172b_11eb_8a36_8cc68114cd63row6_col2\" class=\"data row6 col2\" >$147.67</td>\n",
       "                        <td id=\"T_304269da_172b_11eb_8a36_8cc68114cd63row6_col3\" class=\"data row6 col3\" >$3.60</td>\n",
       "            </tr>\n",
       "            <tr>\n",
       "                        <th id=\"T_304269da_172b_11eb_8a36_8cc68114cd63level0_row7\" class=\"row_heading level0 row7\" >40+</th>\n",
       "                        <td id=\"T_304269da_172b_11eb_8a36_8cc68114cd63row7_col0\" class=\"data row7 col0\" >13</td>\n",
       "                        <td id=\"T_304269da_172b_11eb_8a36_8cc68114cd63row7_col1\" class=\"data row7 col1\" >$2.94</td>\n",
       "                        <td id=\"T_304269da_172b_11eb_8a36_8cc68114cd63row7_col2\" class=\"data row7 col2\" >$38.24</td>\n",
       "                        <td id=\"T_304269da_172b_11eb_8a36_8cc68114cd63row7_col3\" class=\"data row7 col3\" >$2.94</td>\n",
       "            </tr>\n",
       "    </tbody></table>"
      ],
      "text/plain": [
       "<pandas.io.formats.style.Styler at 0x1762cb1f940>"
      ]
     },
     "execution_count": 67,
     "metadata": {},
     "output_type": "execute_result"
    }
   ],
   "source": [
    "# Creating variables\n",
    "pur_count_age = purchase_df[\"Age Group\"].value_counts()\n",
    "avg_pur_price_age = grouped_age_df[\"Price\"].mean()\n",
    "tot_pur_age = grouped_age_df[\"Price\"].sum()\n",
    "avg_pur_per_age = tot_pur_age / pur_count_age\n",
    "\n",
    "# Creating DF and formating\n",
    "age_analysis_df = pd.DataFrame({\n",
    "    \"Purchase Count\": pur_count_age, \n",
    "    \"Average Purchase Price\": avg_pur_price_age,\n",
    "    \"Total Purchase Value\": tot_pur_age,\n",
    "    \"Average Total Purchase/Person\": avg_pur_per_age\n",
    "})\n",
    "age_analysis_df.style.format({\n",
    "    \"Average Purchase Price\": \"${:.2f}\",\n",
    "    \"Total Purchase Value\": \"${:.2f}\",\n",
    "    \"Average Total Purchase/Person\": \"${:.2f}\"\n",
    "})"
   ]
  },
  {
   "cell_type": "markdown",
   "metadata": {},
   "source": [
    "## Top Spenders"
   ]
  },
  {
   "cell_type": "markdown",
   "metadata": {},
   "source": [
    "* Run basic calculations to obtain the results in the table below\n",
    "\n",
    "\n",
    "* Create a summary data frame to hold the results\n",
    "\n",
    "\n",
    "* Sort the total purchase value column in descending order\n",
    "\n",
    "\n",
    "* Optional: give the displayed data cleaner formatting\n",
    "\n",
    "\n",
    "* Display a preview of the summary data frame\n",
    "\n"
   ]
  },
  {
   "cell_type": "code",
   "execution_count": 81,
   "metadata": {},
   "outputs": [
    {
     "data": {
      "text/html": [
       "<style  type=\"text/css\" >\n",
       "</style><table id=\"T_ffefeac9_172d_11eb_bc4b_8cc68114cd63\" ><thead>    <tr>        <th class=\"blank level0\" ></th>        <th class=\"col_heading level0 col0\" >Purchase Count</th>        <th class=\"col_heading level0 col1\" >Average Purchase Price</th>        <th class=\"col_heading level0 col2\" >Total Purchase Value</th>    </tr></thead><tbody>\n",
       "                <tr>\n",
       "                        <th id=\"T_ffefeac9_172d_11eb_bc4b_8cc68114cd63level0_row0\" class=\"row_heading level0 row0\" >Lisosia93</th>\n",
       "                        <td id=\"T_ffefeac9_172d_11eb_bc4b_8cc68114cd63row0_col0\" class=\"data row0 col0\" >5</td>\n",
       "                        <td id=\"T_ffefeac9_172d_11eb_bc4b_8cc68114cd63row0_col1\" class=\"data row0 col1\" >$3.79</td>\n",
       "                        <td id=\"T_ffefeac9_172d_11eb_bc4b_8cc68114cd63row0_col2\" class=\"data row0 col2\" >$18.96</td>\n",
       "            </tr>\n",
       "            <tr>\n",
       "                        <th id=\"T_ffefeac9_172d_11eb_bc4b_8cc68114cd63level0_row1\" class=\"row_heading level0 row1\" >Idastidru52</th>\n",
       "                        <td id=\"T_ffefeac9_172d_11eb_bc4b_8cc68114cd63row1_col0\" class=\"data row1 col0\" >4</td>\n",
       "                        <td id=\"T_ffefeac9_172d_11eb_bc4b_8cc68114cd63row1_col1\" class=\"data row1 col1\" >$3.86</td>\n",
       "                        <td id=\"T_ffefeac9_172d_11eb_bc4b_8cc68114cd63row1_col2\" class=\"data row1 col2\" >$15.45</td>\n",
       "            </tr>\n",
       "            <tr>\n",
       "                        <th id=\"T_ffefeac9_172d_11eb_bc4b_8cc68114cd63level0_row2\" class=\"row_heading level0 row2\" >Chamjask73</th>\n",
       "                        <td id=\"T_ffefeac9_172d_11eb_bc4b_8cc68114cd63row2_col0\" class=\"data row2 col0\" >3</td>\n",
       "                        <td id=\"T_ffefeac9_172d_11eb_bc4b_8cc68114cd63row2_col1\" class=\"data row2 col1\" >$4.61</td>\n",
       "                        <td id=\"T_ffefeac9_172d_11eb_bc4b_8cc68114cd63row2_col2\" class=\"data row2 col2\" >$13.83</td>\n",
       "            </tr>\n",
       "            <tr>\n",
       "                        <th id=\"T_ffefeac9_172d_11eb_bc4b_8cc68114cd63level0_row3\" class=\"row_heading level0 row3\" >Iral74</th>\n",
       "                        <td id=\"T_ffefeac9_172d_11eb_bc4b_8cc68114cd63row3_col0\" class=\"data row3 col0\" >4</td>\n",
       "                        <td id=\"T_ffefeac9_172d_11eb_bc4b_8cc68114cd63row3_col1\" class=\"data row3 col1\" >$3.40</td>\n",
       "                        <td id=\"T_ffefeac9_172d_11eb_bc4b_8cc68114cd63row3_col2\" class=\"data row3 col2\" >$13.62</td>\n",
       "            </tr>\n",
       "            <tr>\n",
       "                        <th id=\"T_ffefeac9_172d_11eb_bc4b_8cc68114cd63level0_row4\" class=\"row_heading level0 row4\" >Iskadarya95</th>\n",
       "                        <td id=\"T_ffefeac9_172d_11eb_bc4b_8cc68114cd63row4_col0\" class=\"data row4 col0\" >3</td>\n",
       "                        <td id=\"T_ffefeac9_172d_11eb_bc4b_8cc68114cd63row4_col1\" class=\"data row4 col1\" >$4.37</td>\n",
       "                        <td id=\"T_ffefeac9_172d_11eb_bc4b_8cc68114cd63row4_col2\" class=\"data row4 col2\" >$13.10</td>\n",
       "            </tr>\n",
       "    </tbody></table>"
      ],
      "text/plain": [
       "<pandas.io.formats.style.Styler at 0x1762cb2da30>"
      ]
     },
     "execution_count": 81,
     "metadata": {},
     "output_type": "execute_result"
    }
   ],
   "source": [
    "# Creating variables\n",
    "spender_df = purchase_df.groupby(\"SN\")\n",
    "pur_count_spender  = spender_df[\"Purchase ID\"].count()\n",
    "avg_pur_price_spender = spender_df[\"Price\"].mean()\n",
    "tot_pur_spender = spender_df[\"Price\"].sum()\n",
    "\n",
    "# Creating DF and formating\n",
    "spenders_analysis_df = pd.DataFrame({ \n",
    "    \"Purchase Count\": pur_count_spender,\n",
    "    \"Average Purchase Price\": avg_pur_price_spender,\n",
    "    \"Total Purchase Value\": tot_pur_spender\n",
    "})\n",
    "\n",
    "spenders_analysis_df.index.name = None\n",
    "spenders_analysis_df = spenders_analysis_df.sort_values([\"Total Purchase Value\"], ascending=False).head()\n",
    "\n",
    "spenders_analysis_df.style.format({\n",
    "    \"Average Purchase Price\": \"${:.2f}\",\n",
    "    \"Total Purchase Value\": \"${:.2f}\",\n",
    "})"
   ]
  },
  {
   "cell_type": "markdown",
   "metadata": {},
   "source": [
    "## Most Popular Items"
   ]
  },
  {
   "cell_type": "markdown",
   "metadata": {},
   "source": [
    "* Retrieve the Item ID, Item Name, and Item Price columns\n",
    "\n",
    "\n",
    "* Group by Item ID and Item Name. Perform calculations to obtain purchase count, average item price, and total purchase value\n",
    "\n",
    "\n",
    "* Create a summary data frame to hold the results\n",
    "\n",
    "\n",
    "* Sort the purchase count column in descending order\n",
    "\n",
    "\n",
    "* Optional: give the displayed data cleaner formatting\n",
    "\n",
    "\n",
    "* Display a preview of the summary data frame\n",
    "\n"
   ]
  },
  {
   "cell_type": "code",
   "execution_count": 89,
   "metadata": {},
   "outputs": [
    {
     "data": {
      "text/html": [
       "<style  type=\"text/css\" >\n",
       "</style><table id=\"T_72135115_172f_11eb_adcd_8cc68114cd63\" ><thead>    <tr>        <th class=\"blank\" ></th>        <th class=\"blank level0\" ></th>        <th class=\"col_heading level0 col0\" >Purchase Count</th>        <th class=\"col_heading level0 col1\" >Item Price</th>        <th class=\"col_heading level0 col2\" >Total Purchase Value</th>    </tr>    <tr>        <th class=\"index_name level0\" >Item ID</th>        <th class=\"index_name level1\" >Item Name</th>        <th class=\"blank\" ></th>        <th class=\"blank\" ></th>        <th class=\"blank\" ></th>    </tr></thead><tbody>\n",
       "                <tr>\n",
       "                        <th id=\"T_72135115_172f_11eb_adcd_8cc68114cd63level0_row0\" class=\"row_heading level0 row0\" >92</th>\n",
       "                        <th id=\"T_72135115_172f_11eb_adcd_8cc68114cd63level1_row0\" class=\"row_heading level1 row0\" >Final Critic</th>\n",
       "                        <td id=\"T_72135115_172f_11eb_adcd_8cc68114cd63row0_col0\" class=\"data row0 col0\" >13</td>\n",
       "                        <td id=\"T_72135115_172f_11eb_adcd_8cc68114cd63row0_col1\" class=\"data row0 col1\" >$4.61</td>\n",
       "                        <td id=\"T_72135115_172f_11eb_adcd_8cc68114cd63row0_col2\" class=\"data row0 col2\" >$59.99</td>\n",
       "            </tr>\n",
       "            <tr>\n",
       "                        <th id=\"T_72135115_172f_11eb_adcd_8cc68114cd63level0_row1\" class=\"row_heading level0 row1\" >178</th>\n",
       "                        <th id=\"T_72135115_172f_11eb_adcd_8cc68114cd63level1_row1\" class=\"row_heading level1 row1\" >Oathbreaker, Last Hope of the Breaking Storm</th>\n",
       "                        <td id=\"T_72135115_172f_11eb_adcd_8cc68114cd63row1_col0\" class=\"data row1 col0\" >12</td>\n",
       "                        <td id=\"T_72135115_172f_11eb_adcd_8cc68114cd63row1_col1\" class=\"data row1 col1\" >$4.23</td>\n",
       "                        <td id=\"T_72135115_172f_11eb_adcd_8cc68114cd63row1_col2\" class=\"data row1 col2\" >$50.76</td>\n",
       "            </tr>\n",
       "            <tr>\n",
       "                        <th id=\"T_72135115_172f_11eb_adcd_8cc68114cd63level0_row2\" class=\"row_heading level0 row2\" >145</th>\n",
       "                        <th id=\"T_72135115_172f_11eb_adcd_8cc68114cd63level1_row2\" class=\"row_heading level1 row2\" >Fiery Glass Crusader</th>\n",
       "                        <td id=\"T_72135115_172f_11eb_adcd_8cc68114cd63row2_col0\" class=\"data row2 col0\" >9</td>\n",
       "                        <td id=\"T_72135115_172f_11eb_adcd_8cc68114cd63row2_col1\" class=\"data row2 col1\" >$4.58</td>\n",
       "                        <td id=\"T_72135115_172f_11eb_adcd_8cc68114cd63row2_col2\" class=\"data row2 col2\" >$41.22</td>\n",
       "            </tr>\n",
       "            <tr>\n",
       "                        <th id=\"T_72135115_172f_11eb_adcd_8cc68114cd63level0_row3\" class=\"row_heading level0 row3\" >132</th>\n",
       "                        <th id=\"T_72135115_172f_11eb_adcd_8cc68114cd63level1_row3\" class=\"row_heading level1 row3\" >Persuasion</th>\n",
       "                        <td id=\"T_72135115_172f_11eb_adcd_8cc68114cd63row3_col0\" class=\"data row3 col0\" >9</td>\n",
       "                        <td id=\"T_72135115_172f_11eb_adcd_8cc68114cd63row3_col1\" class=\"data row3 col1\" >$3.22</td>\n",
       "                        <td id=\"T_72135115_172f_11eb_adcd_8cc68114cd63row3_col2\" class=\"data row3 col2\" >$28.99</td>\n",
       "            </tr>\n",
       "            <tr>\n",
       "                        <th id=\"T_72135115_172f_11eb_adcd_8cc68114cd63level0_row4\" class=\"row_heading level0 row4\" >108</th>\n",
       "                        <th id=\"T_72135115_172f_11eb_adcd_8cc68114cd63level1_row4\" class=\"row_heading level1 row4\" >Extraction, Quickblade Of Trembling Hands</th>\n",
       "                        <td id=\"T_72135115_172f_11eb_adcd_8cc68114cd63row4_col0\" class=\"data row4 col0\" >9</td>\n",
       "                        <td id=\"T_72135115_172f_11eb_adcd_8cc68114cd63row4_col1\" class=\"data row4 col1\" >$3.53</td>\n",
       "                        <td id=\"T_72135115_172f_11eb_adcd_8cc68114cd63row4_col2\" class=\"data row4 col2\" >$31.77</td>\n",
       "            </tr>\n",
       "    </tbody></table>"
      ],
      "text/plain": [
       "<pandas.io.formats.style.Styler at 0x1762cdde3a0>"
      ]
     },
     "execution_count": 89,
     "metadata": {},
     "output_type": "execute_result"
    }
   ],
   "source": [
    "# Creating variables\n",
    "pop_items_df = purchase_df[[\"Item ID\", \"Item Name\", \"Price\"]]\n",
    "pop_items = pop_items_df.groupby([\"Item ID\",\"Item Name\"])\n",
    "pur_count_item = pop_items[\"Price\"].count()\n",
    "tot_price_item = pop_items[\"Price\"].sum()\n",
    "price_item = tot_price_item / pur_count_item\n",
    "\n",
    "# Creating DF and formating\n",
    "pop_items_df = pd.DataFrame({\n",
    "    \"Purchase Count\": pur_count_item, \n",
    "    \"Item Price\": price_item,\n",
    "    \"Total Purchase Value\": tot_price_item\n",
    "})\n",
    "\n",
    "pop_items_df = pop_items_df.sort_values([\"Purchase Count\"], ascending=False).head()\n",
    "\n",
    "pop_items_df.style.format({\n",
    "    \"Item Price\": \"${:.2f}\",\n",
    "    \"Total Purchase Value\": \"${:.2f}\",\n",
    "})"
   ]
  },
  {
   "cell_type": "markdown",
   "metadata": {},
   "source": [
    "## Most Profitable Items"
   ]
  },
  {
   "cell_type": "markdown",
   "metadata": {},
   "source": [
    "* Sort the above table by total purchase value in descending order\n",
    "\n",
    "\n",
    "* Optional: give the displayed data cleaner formatting\n",
    "\n",
    "\n",
    "* Display a preview of the data frame\n",
    "\n"
   ]
  },
  {
   "cell_type": "code",
   "execution_count": 91,
   "metadata": {
    "scrolled": true
   },
   "outputs": [
    {
     "data": {
      "text/html": [
       "<style  type=\"text/css\" >\n",
       "</style><table id=\"T_8ce1a79f_172f_11eb_9a7a_8cc68114cd63\" ><thead>    <tr>        <th class=\"blank\" ></th>        <th class=\"blank level0\" ></th>        <th class=\"col_heading level0 col0\" >Purchase Count</th>        <th class=\"col_heading level0 col1\" >Item Price</th>        <th class=\"col_heading level0 col2\" >Total Purchase Value</th>    </tr>    <tr>        <th class=\"index_name level0\" >Item ID</th>        <th class=\"index_name level1\" >Item Name</th>        <th class=\"blank\" ></th>        <th class=\"blank\" ></th>        <th class=\"blank\" ></th>    </tr></thead><tbody>\n",
       "                <tr>\n",
       "                        <th id=\"T_8ce1a79f_172f_11eb_9a7a_8cc68114cd63level0_row0\" class=\"row_heading level0 row0\" >92</th>\n",
       "                        <th id=\"T_8ce1a79f_172f_11eb_9a7a_8cc68114cd63level1_row0\" class=\"row_heading level1 row0\" >Final Critic</th>\n",
       "                        <td id=\"T_8ce1a79f_172f_11eb_9a7a_8cc68114cd63row0_col0\" class=\"data row0 col0\" >13</td>\n",
       "                        <td id=\"T_8ce1a79f_172f_11eb_9a7a_8cc68114cd63row0_col1\" class=\"data row0 col1\" >$4.61</td>\n",
       "                        <td id=\"T_8ce1a79f_172f_11eb_9a7a_8cc68114cd63row0_col2\" class=\"data row0 col2\" >$59.99</td>\n",
       "            </tr>\n",
       "            <tr>\n",
       "                        <th id=\"T_8ce1a79f_172f_11eb_9a7a_8cc68114cd63level0_row1\" class=\"row_heading level0 row1\" >178</th>\n",
       "                        <th id=\"T_8ce1a79f_172f_11eb_9a7a_8cc68114cd63level1_row1\" class=\"row_heading level1 row1\" >Oathbreaker, Last Hope of the Breaking Storm</th>\n",
       "                        <td id=\"T_8ce1a79f_172f_11eb_9a7a_8cc68114cd63row1_col0\" class=\"data row1 col0\" >12</td>\n",
       "                        <td id=\"T_8ce1a79f_172f_11eb_9a7a_8cc68114cd63row1_col1\" class=\"data row1 col1\" >$4.23</td>\n",
       "                        <td id=\"T_8ce1a79f_172f_11eb_9a7a_8cc68114cd63row1_col2\" class=\"data row1 col2\" >$50.76</td>\n",
       "            </tr>\n",
       "            <tr>\n",
       "                        <th id=\"T_8ce1a79f_172f_11eb_9a7a_8cc68114cd63level0_row2\" class=\"row_heading level0 row2\" >82</th>\n",
       "                        <th id=\"T_8ce1a79f_172f_11eb_9a7a_8cc68114cd63level1_row2\" class=\"row_heading level1 row2\" >Nirvana</th>\n",
       "                        <td id=\"T_8ce1a79f_172f_11eb_9a7a_8cc68114cd63row2_col0\" class=\"data row2 col0\" >9</td>\n",
       "                        <td id=\"T_8ce1a79f_172f_11eb_9a7a_8cc68114cd63row2_col1\" class=\"data row2 col1\" >$4.90</td>\n",
       "                        <td id=\"T_8ce1a79f_172f_11eb_9a7a_8cc68114cd63row2_col2\" class=\"data row2 col2\" >$44.10</td>\n",
       "            </tr>\n",
       "            <tr>\n",
       "                        <th id=\"T_8ce1a79f_172f_11eb_9a7a_8cc68114cd63level0_row3\" class=\"row_heading level0 row3\" >145</th>\n",
       "                        <th id=\"T_8ce1a79f_172f_11eb_9a7a_8cc68114cd63level1_row3\" class=\"row_heading level1 row3\" >Fiery Glass Crusader</th>\n",
       "                        <td id=\"T_8ce1a79f_172f_11eb_9a7a_8cc68114cd63row3_col0\" class=\"data row3 col0\" >9</td>\n",
       "                        <td id=\"T_8ce1a79f_172f_11eb_9a7a_8cc68114cd63row3_col1\" class=\"data row3 col1\" >$4.58</td>\n",
       "                        <td id=\"T_8ce1a79f_172f_11eb_9a7a_8cc68114cd63row3_col2\" class=\"data row3 col2\" >$41.22</td>\n",
       "            </tr>\n",
       "            <tr>\n",
       "                        <th id=\"T_8ce1a79f_172f_11eb_9a7a_8cc68114cd63level0_row4\" class=\"row_heading level0 row4\" >103</th>\n",
       "                        <th id=\"T_8ce1a79f_172f_11eb_9a7a_8cc68114cd63level1_row4\" class=\"row_heading level1 row4\" >Singed Scalpel</th>\n",
       "                        <td id=\"T_8ce1a79f_172f_11eb_9a7a_8cc68114cd63row4_col0\" class=\"data row4 col0\" >8</td>\n",
       "                        <td id=\"T_8ce1a79f_172f_11eb_9a7a_8cc68114cd63row4_col1\" class=\"data row4 col1\" >$4.35</td>\n",
       "                        <td id=\"T_8ce1a79f_172f_11eb_9a7a_8cc68114cd63row4_col2\" class=\"data row4 col2\" >$34.80</td>\n",
       "            </tr>\n",
       "    </tbody></table>"
      ],
      "text/plain": [
       "<pandas.io.formats.style.Styler at 0x1762cdc0160>"
      ]
     },
     "execution_count": 91,
     "metadata": {},
     "output_type": "execute_result"
    }
   ],
   "source": [
    "# Creating variables\n",
    "pop_items_df = purchase_df[[\"Item ID\", \"Item Name\", \"Price\"]]\n",
    "pop_items = pop_items_df.groupby([\"Item ID\",\"Item Name\"])\n",
    "pur_count_item = pop_items[\"Price\"].count()\n",
    "tot_price_item = pop_items[\"Price\"].sum()\n",
    "price_item = tot_price_item / pur_count_item\n",
    "\n",
    "# Creating DF and formating\n",
    "pop_items_df = pd.DataFrame({\n",
    "    \"Purchase Count\": pur_count_item, \n",
    "    \"Item Price\": price_item,\n",
    "    \"Total Purchase Value\": tot_price_item\n",
    "})\n",
    "\n",
    "pop_items_df = pop_items_df.sort_values([\"Total Purchase Value\"], ascending=False).head()\n",
    "\n",
    "pop_items_df.style.format({\n",
    "    \"Item Price\": \"${:.2f}\",\n",
    "    \"Total Purchase Value\": \"${:.2f}\",\n",
    "})"
   ]
  },
  {
   "cell_type": "code",
   "execution_count": null,
   "metadata": {},
   "outputs": [],
   "source": [
    "# Three observations\n",
    "\n",
    "# First, our player base is much older than the average games player base.\n",
    "# Second, our most popular and profitable items are in the $4.50 range, whereas most age groups spend $3 on average per purchase.\n",
    "# Third is a suggestion based on the first two: either market the game towards younger people given that they spend more and\n",
    "# typically are more invested in games, or target the items that are popular amongst the 20-24yo age group and expand on the themes\n",
    "# of those items while pricing them at around where Final Critic is."
   ]
  }
 ],
 "metadata": {
  "anaconda-cloud": {},
  "kernel_info": {
   "name": "python3"
  },
  "kernelspec": {
   "display_name": "Python 3",
   "language": "python",
   "name": "python3"
  },
  "language_info": {
   "codemirror_mode": {
    "name": "ipython",
    "version": 3
   },
   "file_extension": ".py",
   "mimetype": "text/x-python",
   "name": "python",
   "nbconvert_exporter": "python",
   "pygments_lexer": "ipython3",
   "version": "3.8.3"
  },
  "latex_envs": {
   "LaTeX_envs_menu_present": true,
   "autoclose": false,
   "autocomplete": true,
   "bibliofile": "biblio.bib",
   "cite_by": "apalike",
   "current_citInitial": 1,
   "eqLabelWithNumbers": true,
   "eqNumInitial": 1,
   "hotkeys": {
    "equation": "Ctrl-E",
    "itemize": "Ctrl-I"
   },
   "labels_anchors": false,
   "latex_user_defs": false,
   "report_style_numbering": false,
   "user_envs_cfg": false
  },
  "nteract": {
   "version": "0.2.0"
  }
 },
 "nbformat": 4,
 "nbformat_minor": 2
}
